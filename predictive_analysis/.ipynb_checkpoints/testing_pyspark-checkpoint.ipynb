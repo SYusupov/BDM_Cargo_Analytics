{
 "cells": [
  {
   "cell_type": "code",
   "execution_count": 1,
   "metadata": {},
   "outputs": [],
   "source": [
    "import pyspark\n",
    "from pyspark.sql import SparkSession\n",
    "from pyspark.sql.types import *\n",
    "from pyspark.sql import SQLContext\n",
    "from pyspark.sql import Row\n",
    "import pyspark.sql.functions as fn\n",
    "from pyspark.conf import SparkConf"
   ]
  },
  {
   "cell_type": "code",
   "execution_count": 3,
   "metadata": {},
   "outputs": [
    {
     "name": "stderr",
     "output_type": "stream",
     "text": [
      "/home/sayyor/.local/lib/python3.8/site-packages/pyspark/sql/context.py:112: FutureWarning: Deprecated in 3.0.0. Use SparkSession.builder.getOrCreate() instead.\n",
      "  warnings.warn(\n"
     ]
    }
   ],
   "source": [
    "sc = SparkSession.builder\\\n",
    "    .config(\"spark.jars\", \"/home/sayyor/postgresql-42.6.0.jar\")\\\n",
    "    .config(\"spark.driver.extraClassPath\", \"/home/sayyor/postgresql-42.6.0.jar\")\\\n",
    "    .config(\"spark.executor.extraClassPath\", \"/home/sayyor/postgresql-42.6.0.jar\")\\\n",
    "    .getOrCreate()\n",
    "sqlContext = SQLContext(sc)"
   ]
  },
  {
   "cell_type": "code",
   "execution_count": null,
   "metadata": {},
   "outputs": [],
   "source": [
    "users.drop(\"Unnamed: 0\").write.format(\"jdbc\")\\\n",
    "    .option(\"url\", \"jdbc:postgresql://localhost:5432/bdm_joint\")\\\n",
    "    .option(\"driver\", \"org.postgresql.Driver\").option(\"dbtable\", \"users\")\\\n",
    "    .option(\"user\", \"bdm\").option(\"password\", \"test123\")\\\n",
    "    .option(\"driver\", \"org.postgresql.Driver\").save()"
   ]
  },
  {
   "cell_type": "code",
   "execution_count": 42,
   "metadata": {},
   "outputs": [],
   "source": [
    "users = sqlContext.read.format(\"parquet\").load(\"hdfs://localhost:9900/input/users.parquet\", header='true', inferSchema='true')"
   ]
  },
  {
   "cell_type": "code",
   "execution_count": 43,
   "metadata": {},
   "outputs": [],
   "source": [
    "addresses = sqlContext.read.format(\"parquet\").load(\"hdfs://localhost:9900/input/addresses.parquet\", header='true', inferSchema='true')"
   ]
  },
  {
   "cell_type": "code",
   "execution_count": 44,
   "metadata": {},
   "outputs": [],
   "source": [
    "result = users.join(addresses, users.user_id == addresses.id).drop(\n",
    "        \"Unnamed: 0\", \"id\", \"firstname\", \"lastname\", \"mobile\", \"streetNumber\",\n",
    "        \"buildingNumber\", \"postalCode\", \"provence\", \"country\", \"streetName\"\n",
    "    )"
   ]
  },
  {
   "cell_type": "code",
   "execution_count": 45,
   "metadata": {},
   "outputs": [],
   "source": [
    "result = result.withColumn(\"city\", fn.when(fn.col(\"city\") == 'Palma de Mallorca', 'Palma').otherwise(fn.col(\"city\")))"
   ]
  },
  {
   "cell_type": "code",
   "execution_count": 24,
   "metadata": {},
   "outputs": [],
   "source": [
    "# Change city names for all appropriate tables\n",
    "city_dist = sqlContext.read.format(\"parquet\").load(\"hdfs://localhost:9900/input/cities_distances.parquet\", header='true', inferSchema='true')"
   ]
  },
  {
   "cell_type": "code",
   "execution_count": 25,
   "metadata": {},
   "outputs": [],
   "source": [
    "city_dist = city_dist.withColumn(\"name1\", fn.when(fn.col(\"name1\") == 'Alacant / Alicante', 'Alacant').otherwise(fn.col(\"name1\")))\n",
    "city_dist = city_dist.withColumn(\"name2\", fn.when(fn.col(\"name2\") == 'Alacant / Alicante', 'Alacant').otherwise(fn.col(\"name2\")))"
   ]
  },
  {
   "cell_type": "code",
   "execution_count": 26,
   "metadata": {},
   "outputs": [],
   "source": [
    "city_dist = city_dist.drop(\"latitude1\", \"longitude1\", \"latitude2\", \"longitude2\")"
   ]
  },
  {
   "cell_type": "code",
   "execution_count": 55,
   "metadata": {},
   "outputs": [],
   "source": [
    "flights = sqlContext.read.format(\"parquet\").load(\"hdfs://localhost:9900/input/scheduledFlights.parquet\", header='true', inferSchema='true')"
   ]
  },
  {
   "cell_type": "code",
   "execution_count": 57,
   "metadata": {},
   "outputs": [],
   "source": [
    "travels = sqlContext.read.format(\"parquet\").load(\"hdfs://localhost:9900/input/travels.parquet\", header='true', inferSchema='true')"
   ]
  },
  {
   "cell_type": "code",
   "execution_count": 12,
   "metadata": {},
   "outputs": [
    {
     "name": "stdout",
     "output_type": "stream",
     "text": [
      "+---------+\n",
      "|    name2|\n",
      "+---------+\n",
      "|   Málaga|\n",
      "|Barcelona|\n",
      "|  Alacant|\n",
      "|    Palma|\n",
      "|  Sevilla|\n",
      "+---------+\n",
      "\n"
     ]
    }
   ],
   "source": [
    "city_dist.select('name2').distinct().show()"
   ]
  },
  {
   "cell_type": "code",
   "execution_count": 81,
   "metadata": {},
   "outputs": [],
   "source": [
    "travels = travels.withColumn(\"departureAirportFsCode\",\n",
    "                    fn.when(fn.col(\"departureAirportFsCode\") == 'MAD', 'Madrid')\n",
    "                    .otherwise(fn.when(fn.col(\"departureAirportFsCode\") == 'BCN', 'Barcelona')\n",
    "                    .otherwise(fn.when(fn.col(\"departureAirportFsCode\") == 'PMI', 'Palma')\n",
    "                    .otherwise(fn.when(fn.col(\"departureAirportFsCode\") == 'AGP', 'Málaga')\n",
    "                    .otherwise(fn.col(\"departureAirportFsCode\"))))))\n",
    "\n",
    "travels = travels.withColumn(\"arrivalAirportFsCode\",\n",
    "                    fn.when(fn.col(\"arrivalAirportFsCode\") == 'MAD', 'Madrid')\n",
    "                    .otherwise(fn.when(fn.col(\"arrivalAirportFsCode\") == 'BCN', 'Barcelona')\n",
    "                    .otherwise(fn.when(fn.col(\"arrivalAirportFsCode\") == 'PMI', 'Palma')\n",
    "                    .otherwise(fn.when(fn.col(\"arrivalAirportFsCode\") == 'AGP', 'Málaga')\n",
    "                    .otherwise(fn.col(\"arrivalAirportFsCode\"))))))"
   ]
  },
  {
   "cell_type": "code",
   "execution_count": 13,
   "metadata": {},
   "outputs": [],
   "source": [
    "products = sqlContext.read.format(\"parquet\").load(\"hdfs://localhost:9900/input/products.parquet\", header='true', inferSchema='true')"
   ]
  },
  {
   "cell_type": "code",
   "execution_count": 16,
   "metadata": {},
   "outputs": [],
   "source": [
    "products = products.drop(\"product_image_link\")"
   ]
  },
  {
   "cell_type": "code",
   "execution_count": 21,
   "metadata": {},
   "outputs": [],
   "source": [
    "gas = sqlContext.read.format(\"parquet\").load(\"hdfs://localhost:9900/input/gas.parquet\", header='true', inferSchema='true')"
   ]
  },
  {
   "cell_type": "code",
   "execution_count": 28,
   "metadata": {},
   "outputs": [],
   "source": [
    "city_dist = city_dist.join(gas, city_dist.country1 == gas.country)"
   ]
  },
  {
   "cell_type": "code",
   "execution_count": 32,
   "metadata": {},
   "outputs": [],
   "source": [
    "city_dist = city_dist.withColumn(\"lpg_price\", city_dist[\"lpg\"]*(city_dist['distance_km']/100)*8)"
   ]
  },
  {
   "cell_type": "code",
   "execution_count": 34,
   "metadata": {},
   "outputs": [],
   "source": [
    "city_dist = city_dist.withColumn(\"diesel_price\", city_dist[\"diesel\"]*(city_dist['distance_km']/100)*5)\n",
    "city_dist = city_dist.withColumn(\"gasoline_price\", city_dist[\"gasoline\"]*(city_dist['distance_km']/100)*6.3)"
   ]
  },
  {
   "cell_type": "code",
   "execution_count": 37,
   "metadata": {},
   "outputs": [],
   "source": [
    "city_dist = city_dist.drop(\"country\", \"gasoline\", \"diesel\", \"lpg\")"
   ]
  },
  {
   "cell_type": "code",
   "execution_count": 59,
   "metadata": {},
   "outputs": [],
   "source": [
    "requests = sqlContext.read.format(\"parquet\").load(\"hdfs://localhost:9900/input/requests.parquet\", header='true', inferSchema='true')"
   ]
  },
  {
   "cell_type": "code",
   "execution_count": null,
   "metadata": {},
   "outputs": [],
   "source": [
    "requests.drop(\"description\")"
   ]
  },
  {
   "cell_type": "code",
   "execution_count": 83,
   "metadata": {},
   "outputs": [],
   "source": [
    "dhl_price = sqlContext.read.format(\"parquet\").load(\"hdfs://localhost:9900/input/DHL_Price.parquet\", header='true', inferSchema='true')\n",
    "dhl_zone = sqlContext.read.format(\"parquet\").load(\"hdfs://localhost:9900/input/DHL_Zone.parquet\", header='true', inferSchema='true')\n",
    "dhl_zone = dhl_zone.withColumn(\"Region_start\", fn.when(fn.col(\"Region_start\") == 'Palma De Mallorca (PMI)', 'Palma').otherwise(fn.col(\"Region_start\")))\n",
    "dhl_zone = dhl_zone.withColumn(\"Region_end\", fn.when(fn.col(\"Region_end\") == 'Palma De Mallorca (PMI)', 'Palma').otherwise(fn.col(\"Region_end\")))"
   ]
  },
  {
   "cell_type": "code",
   "execution_count": 61,
   "metadata": {},
   "outputs": [
    {
     "name": "stdout",
     "output_type": "stream",
     "text": [
      "+--------------------+----------------+-----------+--------------------+-------------------+-------------------+-------------------+-------------+-----------------+-----------+-----------+----------+-------+-----------+\n",
      "|initializationUserId|collectionUserId|travellerId|           productId|      dateToDeliver|      dateDelivered|        requestDate|pickUpAddress|collectionAddress|description|deliveryFee|pickupCity|address|collectCity|\n",
      "+--------------------+----------------+-----------+--------------------+-------------------+-------------------+-------------------+-------------+-----------------+-----------+-----------+----------+-------+-----------+\n",
      "|                  20|              25|       null|dc582e9ac5036846a...|04/20/2023 05:32 PM|               null|04/10/2023 05:32 PM|           20|               25|       null|       null|    Madrid|     25|     Málaga|\n",
      "|                  20|              37|        0.0|bfd9a39f1774d4ca8...|05/03/2023 01:05 AM|04/26/2023 03:44 AM|04/23/2023 01:05 AM|           20|               37|       null|        0.0|    Madrid|     37|  Barcelona|\n",
      "|                  20|              34|       18.0|483bc1cbabb3fd0c1...|10/05/2023 08:50 AM|10/02/2023 02:59 PM|09/27/2023 08:50 AM|           20|               34|       null|        0.0|    Madrid|     34|     Málaga|\n",
      "|                  20|              21|        0.0|a1b71017a84f92fd8...|08/22/2023 01:29 PM|08/20/2023 10:22 AM|08/11/2023 01:29 PM|           20|               21|       null|        0.0|    Madrid|     21|      Palma|\n",
      "|                  20|              25|       17.0|dfb68ce52d4975e69...|06/03/2023 04:32 AM|05/28/2023 04:23 PM|05/21/2023 04:32 AM|           20|               25|       null|        0.0|    Madrid|     25|     Málaga|\n",
      "|                  20|              38|       16.0|457c5f8a59156ce63...|08/01/2023 10:29 AM|07/31/2023 09:32 PM|07/21/2023 10:29 AM|           20|               38|       null|        0.0|    Madrid|     38|     Málaga|\n",
      "|                  21|              34|        7.0|5b706747080dcd34b...|05/01/2023 09:05 AM|04/29/2023 03:16 PM|04/21/2023 09:05 AM|           21|               34|       null|        0.0|     Palma|     34|     Málaga|\n",
      "|                  21|              33|       15.0|be1be330cf34043d1...|05/07/2023 04:46 PM|05/05/2023 10:40 AM|04/28/2023 04:46 PM|           21|               33|       null|        0.0|     Palma|     33|     Madrid|\n",
      "|                  21|              24|       18.0|7eb9c68704af5effe...|09/10/2023 08:16 PM|09/04/2023 02:13 PM|08/29/2023 08:16 PM|           21|               24|       null|        0.0|     Palma|     24|     Madrid|\n",
      "|                  21|              25|       18.0|1175dc374bce5c9d9...|04/18/2023 06:50 AM|04/10/2023 09:31 PM|04/08/2023 06:50 AM|           21|               25|       null|        0.0|     Palma|     25|     Málaga|\n",
      "|                  21|              39|        8.0|e792f2bb275bdea9b...|09/11/2023 09:36 PM|09/07/2023 11:26 AM|09/04/2023 09:36 PM|           21|               39|       null|        0.0|     Palma|     39|  Barcelona|\n",
      "|                  21|              36|       14.0|0d009643171aee696...|07/10/2023 11:33 AM|07/09/2023 11:51 AM|06/30/2023 11:33 AM|           21|               36|       null|        0.0|     Palma|     36|  Barcelona|\n",
      "|                  21|              33|       17.0|3931aaf38ba4cc928...|08/27/2023 10:15 PM|08/17/2023 08:02 AM|08/14/2023 10:15 PM|           21|               33|       null|        0.0|     Palma|     33|     Madrid|\n",
      "|                  21|              37|        1.0|ba3fea9ec13fb882d...|05/19/2023 09:40 PM|05/14/2023 11:53 AM|05/08/2023 09:40 PM|           21|               37|       null|        0.0|     Palma|     37|  Barcelona|\n",
      "|                  21|              31|       17.0|1175dc374bce5c9d9...|08/09/2023 12:16 AM|08/05/2023 01:00 AM|08/01/2023 12:16 AM|           21|               31|       null|        0.0|     Palma|     31|     Málaga|\n",
      "|                  21|              33|        5.0|fe6614ba400caca2d...|10/03/2023 09:47 PM|09/23/2023 12:18 PM|09/20/2023 09:47 PM|           21|               33|       null|        0.0|     Palma|     33|     Madrid|\n",
      "|                  21|              27|        3.0|375478581c9783254...|09/05/2023 08:57 AM|08/28/2023 09:47 AM|08/23/2023 08:57 AM|           21|               27|       null|        0.0|     Palma|     27|  Barcelona|\n",
      "|                  22|              28|        9.0|b864b103180d5a6a3...|05/14/2023 05:51 PM|05/08/2023 07:00 PM|05/04/2023 05:51 PM|           22|               28|       null|        0.0|    Madrid|     28|  Barcelona|\n",
      "|                  22|              32|       10.0|3fcd8dfe610c62edf...|04/16/2023 05:01 PM|04/13/2023 01:03 AM|04/08/2023 05:01 PM|           22|               32|       null|        0.0|    Madrid|     32|     Málaga|\n",
      "|                  22|              31|       10.0|8da90b37f0fb171b4...|05/01/2023 02:09 AM|04/28/2023 05:19 PM|04/23/2023 02:09 AM|           22|               31|       null|        0.0|    Madrid|     31|     Málaga|\n",
      "+--------------------+----------------+-----------+--------------------+-------------------+-------------------+-------------------+-------------+-----------------+-----------+-----------+----------+-------+-----------+\n",
      "only showing top 20 rows\n",
      "\n"
     ]
    }
   ],
   "source": [
    "requests.show()"
   ]
  },
  {
   "cell_type": "code",
   "execution_count": 47,
   "metadata": {},
   "outputs": [],
   "source": [
    "result = result.drop(\"gender\", \"nationality\", \"dob\", \"is_traveller\", \"user_id\")"
   ]
  },
  {
   "cell_type": "code",
   "execution_count": 60,
   "metadata": {},
   "outputs": [],
   "source": [
    "requests = requests.join(result, result.address == requests.pickUpAddress)\n",
    "requests = requests.withColumnRenamed(\"city\", 'pickupCity').drop(\"address\")\n",
    "requests = requests.join(result, result.address == requests.collectionAddress)\n",
    "requests = requests.withColumnRenamed(\"city\", 'collectCity')"
   ]
  },
  {
   "cell_type": "code",
   "execution_count": 84,
   "metadata": {},
   "outputs": [],
   "source": [
    "dhl_zone_new = dhl_zone.withColumn(\"Region_start\", fn.when(fn.col(\"Region_start\") == \"Resto de España (ES)\", \"Málaga\").otherwise(fn.col(\"Region_start\")))\n",
    "dhl_zone_new = dhl_zone_new.union(dhl_zone.withColumn(\"Region_start\", fn.when(fn.col(\"Region_start\") == \"Resto de España (ES)\", \"Barcelona\").otherwise(fn.col(\"Region_start\"))))\n",
    "dhl_zone_new = dhl_zone_new.union(dhl_zone.withColumn(\"Region_start\", fn.when(fn.col(\"Region_start\") == \"Resto de España (ES)\", \"Madrid\").otherwise(fn.col(\"Region_start\"))))\n",
    "\n",
    "dhl_zone = dhl_zone_new.withColumn(\"Region_end\", fn.when(fn.col(\"Region_end\") == \"Resto de España (ES)\", \"Málaga\").otherwise(fn.col(\"Region_end\")))\n",
    "dhl_zone = dhl_zone.union(dhl_zone_new.withColumn(\"Region_end\", fn.when(fn.col(\"Region_end\") == \"Resto de España (ES)\", \"Barcelona\").otherwise(fn.col(\"Region_end\"))))\n",
    "dhl_zone = dhl_zone.union(dhl_zone_new.withColumn(\"Region_end\", fn.when(fn.col(\"Region_end\") == \"Resto de España (ES)\", \"Madrid\").otherwise(fn.col(\"Region_end\"))))"
   ]
  },
  {
   "cell_type": "code",
   "execution_count": 92,
   "metadata": {},
   "outputs": [],
   "source": [
    "dhl_zone = dhl_zone.drop(\"Zone_start\", \"Zone_end\")"
   ]
  },
  {
   "cell_type": "code",
   "execution_count": 94,
   "metadata": {},
   "outputs": [],
   "source": [
    "requests = requests.join(dhl_zone, (dhl_zone.Region_start == requests.collectCity) & (dhl_zone.Region_end == requests.pickupCity))\n"
   ]
  },
  {
   "cell_type": "code",
   "execution_count": 103,
   "metadata": {},
   "outputs": [],
   "source": [
    "requests = requests.drop(\"Region_start\", \"Region_end\", \"address\")"
   ]
  },
  {
   "cell_type": "code",
   "execution_count": 99,
   "metadata": {},
   "outputs": [
    {
     "data": {
      "text/plain": [
       "DataFrame[initializationUserId: bigint, collectionUserId: bigint, travellerId: double, productId: string, dateToDeliver: string, dateDelivered: string, requestDate: string, pickUpAddress: bigint, collectionAddress: bigint, description: double, deliveryFee: double, pickupCity: string, address: bigint, collectCity: string, Region_start: string, Region_end: string, Type: string, product_weight_g: double]"
      ]
     },
     "execution_count": 99,
     "metadata": {},
     "output_type": "execute_result"
    }
   ],
   "source": [
    "requests = requests.join(products, products.product_id == requests.productId)"
   ]
  },
  {
   "cell_type": "code",
   "execution_count": null,
   "metadata": {},
   "outputs": [],
   "source": [
    "requests = requests.join(dhl_price, dhl_price.product_id == requests.productId)"
   ]
  },
  {
   "cell_type": "code",
   "execution_count": 100,
   "metadata": {},
   "outputs": [],
   "source": [
    "requests = requests.drop(\"product_id\")"
   ]
  },
  {
   "cell_type": "code",
   "execution_count": 115,
   "metadata": {},
   "outputs": [],
   "source": [
    "row_idx = fn.ceil(requests['product_weight_g'])"
   ]
  },
  {
   "cell_type": "code",
   "execution_count": 112,
   "metadata": {},
   "outputs": [
    {
     "ename": "TypeError",
     "evalue": "'Column' object is not callable",
     "output_type": "error",
     "traceback": [
      "\u001b[0;31m---------------------------------------------------------------------------\u001b[0m",
      "\u001b[0;31mTypeError\u001b[0m                                 Traceback (most recent call last)",
      "\u001b[0;32m<ipython-input-112-89ccebfbf82f>\u001b[0m in \u001b[0;36m<module>\u001b[0;34m\u001b[0m\n\u001b[0;32m----> 1\u001b[0;31m \u001b[0mrow_idx\u001b[0m\u001b[0;34m.\u001b[0m\u001b[0mshow\u001b[0m\u001b[0;34m(\u001b[0m\u001b[0;34m)\u001b[0m\u001b[0;34m\u001b[0m\u001b[0;34m\u001b[0m\u001b[0m\n\u001b[0m",
      "\u001b[0;31mTypeError\u001b[0m: 'Column' object is not callable"
     ]
    }
   ],
   "source": [
    "row_idx.show()"
   ]
  },
  {
   "cell_type": "code",
   "execution_count": 113,
   "metadata": {},
   "outputs": [
    {
     "ename": "TypeError",
     "evalue": "list indices must be integers or slices, not Column",
     "output_type": "error",
     "traceback": [
      "\u001b[0;31m---------------------------------------------------------------------------\u001b[0m",
      "\u001b[0;31mTypeError\u001b[0m                                 Traceback (most recent call last)",
      "\u001b[0;32m<ipython-input-113-42d56e17d84a>\u001b[0m in \u001b[0;36m<module>\u001b[0;34m\u001b[0m\n\u001b[0;32m----> 1\u001b[0;31m \u001b[0mrequests\u001b[0m \u001b[0;34m=\u001b[0m \u001b[0mrequests\u001b[0m\u001b[0;34m.\u001b[0m\u001b[0mwithColumn\u001b[0m\u001b[0;34m(\u001b[0m\u001b[0;34m\"DHL_price\"\u001b[0m\u001b[0;34m,\u001b[0m \u001b[0mdhl_price\u001b[0m\u001b[0;34m.\u001b[0m\u001b[0mcollect\u001b[0m\u001b[0;34m(\u001b[0m\u001b[0;34m)\u001b[0m\u001b[0;34m[\u001b[0m\u001b[0mrow_idx\u001b[0m\u001b[0;34m]\u001b[0m\u001b[0;34m[\u001b[0m\u001b[0mrequests\u001b[0m\u001b[0;34m.\u001b[0m\u001b[0mType\u001b[0m\u001b[0;34m]\u001b[0m\u001b[0;34m)\u001b[0m\u001b[0;34m\u001b[0m\u001b[0;34m\u001b[0m\u001b[0m\n\u001b[0m",
      "\u001b[0;31mTypeError\u001b[0m: list indices must be integers or slices, not Column"
     ]
    }
   ],
   "source": [
    "requests = requests.withColumn(\"DHL_price\", dhl_price.collect()[row_idx][requests.Type])"
   ]
  },
  {
   "cell_type": "code",
   "execution_count": 104,
   "metadata": {},
   "outputs": [
    {
     "name": "stdout",
     "output_type": "stream",
     "text": [
      "+--------------------+----------------+-----------+--------------------+-------------------+-------------------+-------------------+-------------+-----------------+-----------+-----------+----------+-----------+----+----------------+\n",
      "|initializationUserId|collectionUserId|travellerId|           productId|      dateToDeliver|      dateDelivered|        requestDate|pickUpAddress|collectionAddress|description|deliveryFee|pickupCity|collectCity|Type|product_weight_g|\n",
      "+--------------------+----------------+-----------+--------------------+-------------------+-------------------+-------------------+-------------+-----------------+-----------+-----------+----------+-----------+----+----------------+\n",
      "|                  20|              25|       null|dc582e9ac5036846a...|04/20/2023 05:32 PM|               null|04/10/2023 05:32 PM|           20|               25|       null|       null|    Madrid|     Málaga|   A|          1300.0|\n",
      "|                  20|              37|        0.0|bfd9a39f1774d4ca8...|05/03/2023 01:05 AM|04/26/2023 03:44 AM|04/23/2023 01:05 AM|           20|               37|       null|        0.0|    Madrid|  Barcelona|   A|           750.0|\n",
      "|                  20|              34|       18.0|483bc1cbabb3fd0c1...|10/05/2023 08:50 AM|10/02/2023 02:59 PM|09/27/2023 08:50 AM|           20|               34|       null|        0.0|    Madrid|     Málaga|   A|          2000.0|\n",
      "|                  20|              21|        0.0|a1b71017a84f92fd8...|08/22/2023 01:29 PM|08/20/2023 10:22 AM|08/11/2023 01:29 PM|           20|               21|       null|        0.0|    Madrid|      Palma|   B|           900.0|\n",
      "|                  20|              21|        0.0|a1b71017a84f92fd8...|08/22/2023 01:29 PM|08/20/2023 10:22 AM|08/11/2023 01:29 PM|           20|               21|       null|        0.0|    Madrid|      Palma|   B|           900.0|\n",
      "|                  20|              21|        0.0|a1b71017a84f92fd8...|08/22/2023 01:29 PM|08/20/2023 10:22 AM|08/11/2023 01:29 PM|           20|               21|       null|        0.0|    Madrid|      Palma|   B|           900.0|\n",
      "|                  20|              25|       17.0|dfb68ce52d4975e69...|06/03/2023 04:32 AM|05/28/2023 04:23 PM|05/21/2023 04:32 AM|           20|               25|       null|        0.0|    Madrid|     Málaga|   A|           300.0|\n",
      "|                  20|              38|       16.0|457c5f8a59156ce63...|08/01/2023 10:29 AM|07/31/2023 09:32 PM|07/21/2023 10:29 AM|           20|               38|       null|        0.0|    Madrid|     Málaga|   A|           200.0|\n",
      "|                  21|              34|        7.0|5b706747080dcd34b...|05/01/2023 09:05 AM|04/29/2023 03:16 PM|04/21/2023 09:05 AM|           21|               34|       null|        0.0|     Palma|     Málaga|   B|           340.0|\n",
      "|                  21|              34|        7.0|5b706747080dcd34b...|05/01/2023 09:05 AM|04/29/2023 03:16 PM|04/21/2023 09:05 AM|           21|               34|       null|        0.0|     Palma|     Málaga|   B|           340.0|\n",
      "|                  21|              34|        7.0|5b706747080dcd34b...|05/01/2023 09:05 AM|04/29/2023 03:16 PM|04/21/2023 09:05 AM|           21|               34|       null|        0.0|     Palma|     Málaga|   B|           340.0|\n",
      "|                  21|              33|       15.0|be1be330cf34043d1...|05/07/2023 04:46 PM|05/05/2023 10:40 AM|04/28/2023 04:46 PM|           21|               33|       null|        0.0|     Palma|     Madrid|   B|           317.0|\n",
      "|                  21|              33|       15.0|be1be330cf34043d1...|05/07/2023 04:46 PM|05/05/2023 10:40 AM|04/28/2023 04:46 PM|           21|               33|       null|        0.0|     Palma|     Madrid|   B|           317.0|\n",
      "|                  21|              33|       15.0|be1be330cf34043d1...|05/07/2023 04:46 PM|05/05/2023 10:40 AM|04/28/2023 04:46 PM|           21|               33|       null|        0.0|     Palma|     Madrid|   B|           317.0|\n",
      "|                  21|              24|       18.0|7eb9c68704af5effe...|09/10/2023 08:16 PM|09/04/2023 02:13 PM|08/29/2023 08:16 PM|           21|               24|       null|        0.0|     Palma|     Madrid|   B|           900.0|\n",
      "|                  21|              24|       18.0|7eb9c68704af5effe...|09/10/2023 08:16 PM|09/04/2023 02:13 PM|08/29/2023 08:16 PM|           21|               24|       null|        0.0|     Palma|     Madrid|   B|           900.0|\n",
      "|                  21|              24|       18.0|7eb9c68704af5effe...|09/10/2023 08:16 PM|09/04/2023 02:13 PM|08/29/2023 08:16 PM|           21|               24|       null|        0.0|     Palma|     Madrid|   B|           900.0|\n",
      "|                  21|              25|       18.0|1175dc374bce5c9d9...|04/18/2023 06:50 AM|04/10/2023 09:31 PM|04/08/2023 06:50 AM|           21|               25|       null|        0.0|     Palma|     Málaga|   B|           400.0|\n",
      "|                  21|              25|       18.0|1175dc374bce5c9d9...|04/18/2023 06:50 AM|04/10/2023 09:31 PM|04/08/2023 06:50 AM|           21|               25|       null|        0.0|     Palma|     Málaga|   B|           400.0|\n",
      "|                  21|              25|       18.0|1175dc374bce5c9d9...|04/18/2023 06:50 AM|04/10/2023 09:31 PM|04/08/2023 06:50 AM|           21|               25|       null|        0.0|     Palma|     Málaga|   B|           400.0|\n",
      "+--------------------+----------------+-----------+--------------------+-------------------+-------------------+-------------------+-------------+-----------------+-----------+-----------+----------+-----------+----+----------------+\n",
      "only showing top 20 rows\n",
      "\n"
     ]
    }
   ],
   "source": [
    "requests.show()"
   ]
  },
  {
   "cell_type": "code",
   "execution_count": 97,
   "metadata": {},
   "outputs": [],
   "source": [
    "products = products.drop(\"product_length_cm\", \"product_height_cm\", \"product_width_cm\", \"product_category_name_english\", \"product_name\")"
   ]
  },
  {
   "cell_type": "code",
   "execution_count": 107,
   "metadata": {},
   "outputs": [
    {
     "data": {
      "text/plain": [
       "16.78"
      ]
     },
     "execution_count": 107,
     "metadata": {},
     "output_type": "execute_result"
    }
   ],
   "source": [
    "dhl_price.collect()[0]['A']"
   ]
  },
  {
   "cell_type": "code",
   "execution_count": null,
   "metadata": {},
   "outputs": [],
   "source": [
    "dhl_price.collect"
   ]
  },
  {
   "cell_type": "code",
   "execution_count": 105,
   "metadata": {},
   "outputs": [
    {
     "name": "stdout",
     "output_type": "stream",
     "text": [
      "+------+-----+-----+-----+------+\n",
      "|Weight|    A|    B|    C|     D|\n",
      "+------+-----+-----+-----+------+\n",
      "|     1|16.78|17.05|20.23|  40.1|\n",
      "|     2|16.78|17.05|20.23| 58.07|\n",
      "|     3|18.43|18.86| 25.0| 66.03|\n",
      "|     4|20.08|20.67|29.77| 73.99|\n",
      "|     5|21.73|22.48|34.54| 81.95|\n",
      "|     6|25.86|26.94|37.97| 89.91|\n",
      "|     7|28.15|29.55| 41.4| 97.88|\n",
      "|     8|30.44|32.16|44.83|105.85|\n",
      "|     9|32.73|34.77|48.26|113.82|\n",
      "|    10|35.02|37.38|51.69|121.79|\n",
      "|    11|37.31|39.99| 54.7|129.75|\n",
      "|    12| 39.6| 42.6|57.71|137.71|\n",
      "|    13|41.89|45.21|60.72|145.67|\n",
      "|    14|44.18|47.82|63.73|153.63|\n",
      "|    15|46.47|50.43|66.74|161.59|\n",
      "|    16|48.76|53.04|69.75|169.55|\n",
      "|    17|51.05|55.65|72.76|177.51|\n",
      "|    18|53.34|58.26|75.77|185.47|\n",
      "|    19|55.63|60.87|78.78|193.43|\n",
      "|    20|57.92|63.48|81.79|201.39|\n",
      "+------+-----+-----+-----+------+\n",
      "only showing top 20 rows\n",
      "\n"
     ]
    }
   ],
   "source": [
    "dhl_price.show()"
   ]
  },
  {
   "cell_type": "code",
   "execution_count": null,
   "metadata": {},
   "outputs": [],
   "source": [
    "products = products.drop(\"product_weight_g\")"
   ]
  },
  {
   "cell_type": "code",
   "execution_count": 1,
   "metadata": {},
   "outputs": [],
   "source": [
    "# convert from csv to parquet\n",
    "import pandas as pd\n",
    "# folder = \"../additional_sources/\"\n",
    "folder = \"../datasets/\"\n",
    "files = [\"DHL_Processed_Domestic_Price.parquet\", \"\"]\n",
    "for file in files:\n",
    "    df = pd.read_csv(folder+file)\n",
    "    df.to_parquet(folder+file.split(\".\")[0]+'.parquet')"
   ]
  }
 ],
 "metadata": {
  "kernelspec": {
   "display_name": "Python 3 (ipykernel)",
   "language": "python",
   "name": "python3"
  },
  "language_info": {
   "codemirror_mode": {
    "name": "ipython",
    "version": 3
   },
   "file_extension": ".py",
   "mimetype": "text/x-python",
   "name": "python",
   "nbconvert_exporter": "python",
   "pygments_lexer": "ipython3",
   "version": "3.7.11"
  }
 },
 "nbformat": 4,
 "nbformat_minor": 2
}
